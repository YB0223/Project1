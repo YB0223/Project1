{
  "nbformat": 4,
  "nbformat_minor": 0,
  "metadata": {
    "colab": {
      "name": "Project1_흑백.ipynb",
      "provenance": [],
      "collapsed_sections": [
        "Cy85mDrN7xQw"
      ],
      "authorship_tag": "ABX9TyN386mZCEgHenjhlPuQH6UB",
      "include_colab_link": true
    },
    "kernelspec": {
      "name": "python3",
      "display_name": "Python 3"
    },
    "language_info": {
      "name": "python"
    }
  },
  "cells": [
    {
      "cell_type": "markdown",
      "metadata": {
        "id": "view-in-github",
        "colab_type": "text"
      },
      "source": [
        "<a href=\"https://colab.research.google.com/github/YB0223/Project1/blob/main/Project1_%ED%9D%91%EB%B0%B1.ipynb\" target=\"_parent\"><img src=\"https://colab.research.google.com/assets/colab-badge.svg\" alt=\"Open In Colab\"/></a>"
      ]
    },
    {
      "cell_type": "markdown",
      "source": [
        "### pip setting"
      ],
      "metadata": {
        "id": "DLOrYAwKxH57"
      }
    },
    {
      "cell_type": "code",
      "source": [
        "# GIF를 만들기위해 설치합니다.\n",
        "!pip install imageio"
      ],
      "metadata": {
        "colab": {
          "base_uri": "https://localhost:8080/"
        },
        "id": "BlDmGiekxNgj",
        "outputId": "738ec59f-5450-4600-824c-726df8019043"
      },
      "execution_count": 1,
      "outputs": [
        {
          "output_type": "stream",
          "name": "stdout",
          "text": [
            "Requirement already satisfied: imageio in /usr/local/lib/python3.7/dist-packages (2.4.1)\n",
            "Requirement already satisfied: pillow in /usr/local/lib/python3.7/dist-packages (from imageio) (7.1.2)\n",
            "Requirement already satisfied: numpy in /usr/local/lib/python3.7/dist-packages (from imageio) (1.19.5)\n"
          ]
        }
      ]
    },
    {
      "cell_type": "code",
      "source": [
        "!pip install tensorflow-gpu==2.0.0"
      ],
      "metadata": {
        "id": "bEkQmS6LxHHd"
      },
      "execution_count": null,
      "outputs": []
    },
    {
      "cell_type": "markdown",
      "source": [
        "## New Face"
      ],
      "metadata": {
        "id": "VJzGdN9mAcq-"
      }
    },
    {
      "cell_type": "markdown",
      "source": [
        "### DATA EDA"
      ],
      "metadata": {
        "id": "WGo1UtLHwxus"
      }
    },
    {
      "cell_type": "markdown",
      "source": [
        "#### 1."
      ],
      "metadata": {
        "id": "Cy85mDrN7xQw"
      }
    },
    {
      "cell_type": "markdown",
      "source": [
        "데이터 원본링크 : \n",
        "https://research.google/tools/datasets/google-facial-expression/"
      ],
      "metadata": {
        "id": "aMTA6lQG7p2O"
      }
    },
    {
      "cell_type": "code",
      "execution_count": 3,
      "metadata": {
        "id": "XMdkI2dX_gWu",
        "colab": {
          "base_uri": "https://localhost:8080/"
        },
        "outputId": "45cb4e1b-1b31-4fa1-e245-92ff32de83ec"
      },
      "outputs": [
        {
          "output_type": "stream",
          "name": "stdout",
          "text": [
            "Mounted at /content/drive\n"
          ]
        }
      ],
      "source": [
        "from google.colab import drive\n",
        "drive.mount('/content/drive')"
      ]
    },
    {
      "cell_type": "code",
      "source": [
        "root='/content/drive/MyDrive/FEC_dataset'\n",
        "train_path=root+'/faceexp-comparison-data-train-public.csv'\n",
        "test_path=root+'/faceexp-comparison-data-test-public.csv'"
      ],
      "metadata": {
        "id": "q4V7JXwVELzx"
      },
      "execution_count": 4,
      "outputs": []
    },
    {
      "cell_type": "code",
      "source": [
        "import csv\n",
        "import pandas as pd\n",
        "with open(train_path, encoding='utf8') as f, open(test_path, encoding='utf8') as g:\n",
        "  r1=csv.reader(f)\n",
        "  r2=csv.reader(g)\n",
        "  csv_train_list=[] \n",
        "  csv_test_list=[] \n",
        "  for i in r1: \n",
        "    csv_train_list.append(i) \n",
        "  for i in r2: \n",
        "    csv_test_list.append(i) \n",
        "\n",
        "train=pd.DataFrame(csv_train_list)\n",
        "test=pd.DataFrame(csv_test_list)"
      ],
      "metadata": {
        "id": "mlVDPo2zEgcv"
      },
      "execution_count": 5,
      "outputs": []
    },
    {
      "cell_type": "code",
      "source": [
        "train=train.iloc[:,:15]\n",
        "test=test.iloc[:,:15]"
      ],
      "metadata": {
        "id": "Wvl0pEA78LIg"
      },
      "execution_count": 6,
      "outputs": []
    },
    {
      "cell_type": "code",
      "source": [
        "'''col_name=['link1','ColWidth_TopLeft','ColWidth_BottomRight','RowHeight_TopLeft','RowHeight_BottomRight',\n",
        "               'link2','ColWidth_TopLeft','ColWidth_BottomRight','RowHeight_TopLeft','RowHeight_BottomRight',\n",
        "               'link3','ColWidth_TopLeft','ColWidth_BottomRight','RowHeight_TopLeft','RowHeight_BottomRight']\n",
        "train.columns=col_name\n",
        "test.columns=col_name'''"
      ],
      "metadata": {
        "id": "7q7HRMqcIUKN",
        "colab": {
          "base_uri": "https://localhost:8080/",
          "height": 90
        },
        "outputId": "48d44ddf-eafa-47e9-c970-ff28a559a2e5"
      },
      "execution_count": null,
      "outputs": [
        {
          "output_type": "execute_result",
          "data": {
            "application/vnd.google.colaboratory.intrinsic+json": {
              "type": "string"
            },
            "text/plain": [
              "\"col_name=['link1','ColWidth_TopLeft','ColWidth_BottomRight','RowHeight_TopLeft','RowHeight_BottomRight',\\n               'link2','ColWidth_TopLeft','ColWidth_BottomRight','RowHeight_TopLeft','RowHeight_BottomRight',\\n               'link3','ColWidth_TopLeft','ColWidth_BottomRight','RowHeight_TopLeft','RowHeight_BottomRight']\\ntrain.columns=col_name\\ntest.columns=col_name\""
            ]
          },
          "metadata": {},
          "execution_count": 6
        }
      ]
    },
    {
      "cell_type": "code",
      "source": [
        "train.shape, test.shape"
      ],
      "metadata": {
        "id": "_e7Nfr9SIRAQ",
        "colab": {
          "base_uri": "https://localhost:8080/"
        },
        "outputId": "1075aced-f39f-495f-d49f-8bd63ceddb55"
      },
      "execution_count": 7,
      "outputs": [
        {
          "output_type": "execute_result",
          "data": {
            "text/plain": [
              "((449143, 15), (51060, 15))"
            ]
          },
          "metadata": {},
          "execution_count": 7
        }
      ]
    },
    {
      "cell_type": "code",
      "source": [
        "from urllib import request\n",
        "import time\n",
        "from io import BytesIO\n",
        "from PIL import Image\n",
        "import cv2\n",
        "import numpy as np"
      ],
      "metadata": {
        "id": "mIXW0y8DMtc1"
      },
      "execution_count": 8,
      "outputs": []
    },
    {
      "cell_type": "code",
      "source": [
        "def get_image(url_row,url_col):\n",
        "  url = train[url_col][url_row]\n",
        "  try:\n",
        "    res = request.urlopen(url).read()\n",
        "  except:\n",
        "    return -1\n",
        "  img = Image.open(BytesIO(res)).convert('L')\n",
        "\n",
        "  dot1=[int(float(train[1+url_col][url_row])*img.size[0]),int(float(train[3+url_col][url_row])*img.size[1])]  #좌상점\n",
        "  dot2=[int(float(train[2+url_col][url_row])*img.size[0]),int(float(train[4+url_col][url_row])*img.size[1])]  #우하점\n",
        "  gap=dot2[1]-dot1[1]-(dot2[0]-dot1[0])\n",
        "  #정방향 이미지로 변경\n",
        "  gap0=gap//2\n",
        "  gap1=gap%2\n",
        "  dot1[0]=dot1[0]-gap0\n",
        "  dot2[0]=dot2[0]+gap0+gap1\n",
        "  img2=img.crop((dot1[0],dot1[1],dot2[0],dot2[1]))\n",
        "\n",
        "  #사이즈 재설정\n",
        "  img2=img2.resize((28,28))\n",
        "\n",
        "  return img2,img"
      ],
      "metadata": {
        "id": "kvvxLTlc4Joi"
      },
      "execution_count": 9,
      "outputs": []
    },
    {
      "cell_type": "markdown",
      "source": [
        "####긴 처리1"
      ],
      "metadata": {
        "id": "HEdmZz-47p-x"
      }
    },
    {
      "cell_type": "code",
      "source": [
        "from google.colab import output\n",
        "\n",
        "origin_image=[]\n",
        "train_images=[]\n",
        "val=200\n",
        "\n",
        "s_time=time.time()\n",
        "for j in range(val):\n",
        "  start = time.time()\n",
        "\n",
        "  for i in range (3):\n",
        "    img=get_image(j,5*i)\n",
        "    if img == -1:\n",
        "      continue\n",
        "    img=img[0]\n",
        "    origin_image.append(img)\n",
        "    img=np.array(img)\n",
        "    train_images.append(img)\n",
        "\n",
        "  # print (' 에포크 {} 에서 걸린 시간은 {} 초 입니다'.format(epoch +1, time.time()-start))\n",
        "  output.clear()\n",
        "  print ('Time for row {}/{} is {} sec'.format(j + 1,val, round(time.time()-start,2)))\n",
        "  print ('Time for all is {} sec'.format(round(time.time()-s_time,2)))\n",
        "  "
      ],
      "metadata": {
        "id": "8C_h-2dY3_lM",
        "colab": {
          "base_uri": "https://localhost:8080/"
        },
        "outputId": "3aec89d8-3206-4311-bf57-c5c6e231b05f"
      },
      "execution_count": 10,
      "outputs": [
        {
          "output_type": "stream",
          "name": "stdout",
          "text": [
            "Time for row 200/200 is 0.68 sec\n",
            "Time for all is 140.9 sec\n"
          ]
        }
      ]
    },
    {
      "cell_type": "markdown",
      "source": [
        "#### 이어서"
      ],
      "metadata": {
        "id": "OprBmqLS7suS"
      }
    },
    {
      "cell_type": "code",
      "source": [
        "'''for i in range(4,9):\n",
        "  display(image[5*i],image[5*i+1],image[5*i+2],image[5*i+3],image[5*i+4])'''"
      ],
      "metadata": {
        "id": "HgpoMby-Tj_U"
      },
      "execution_count": null,
      "outputs": []
    },
    {
      "cell_type": "code",
      "source": [
        "train_images=np.array(train_images)\n",
        "train_images=(train_images-127.5)/127.5\n",
        "\n",
        "train_images=train_images.reshape(train_images.shape[0],28,28,1)"
      ],
      "metadata": {
        "id": "eUf37phox6Cv"
      },
      "execution_count": 11,
      "outputs": []
    },
    {
      "cell_type": "markdown",
      "source": [
        "### DCGAN"
      ],
      "metadata": {
        "id": "2pFwepMgwpqa"
      }
    },
    {
      "cell_type": "code",
      "source": [
        "import tensorflow as tf\n",
        "\n",
        "import glob\n",
        "import imageio\n",
        "import matplotlib.pyplot as plt\n",
        "import numpy as np\n",
        "import os\n",
        "import PIL\n",
        "from tensorflow.keras import layers\n",
        "import time\n",
        "\n",
        "from IPython import display as dp"
      ],
      "metadata": {
        "id": "KN3g2NSJwn5q"
      },
      "execution_count": 12,
      "outputs": []
    },
    {
      "cell_type": "code",
      "source": [
        "tf.__version__"
      ],
      "metadata": {
        "colab": {
          "base_uri": "https://localhost:8080/",
          "height": 35
        },
        "id": "0nW0pQ1WxaUu",
        "outputId": "1994a103-fe72-4d27-c593-0a63e63c9ca4"
      },
      "execution_count": 13,
      "outputs": [
        {
          "output_type": "execute_result",
          "data": {
            "application/vnd.google.colaboratory.intrinsic+json": {
              "type": "string"
            },
            "text/plain": [
              "'2.7.0'"
            ]
          },
          "metadata": {},
          "execution_count": 13
        }
      ]
    },
    {
      "cell_type": "code",
      "source": [
        "BUFFER_SIZE = len(train_images)\n",
        "BATCH_SIZE = 32"
      ],
      "metadata": {
        "id": "XM6X8bI0_x7p"
      },
      "execution_count": 14,
      "outputs": []
    },
    {
      "cell_type": "code",
      "source": [
        "# 데이터 배치를 만들고 섞습니다.\n",
        "train_dataset = tf.data.Dataset.from_tensor_slices(train_images).shuffle(BUFFER_SIZE).batch(BATCH_SIZE)"
      ],
      "metadata": {
        "id": "T3-KGnkgAE_w"
      },
      "execution_count": 15,
      "outputs": []
    },
    {
      "cell_type": "markdown",
      "source": [
        "#### 생성자"
      ],
      "metadata": {
        "id": "K-wVn6mAALPo"
      }
    },
    {
      "cell_type": "code",
      "source": [
        "input_row=100"
      ],
      "metadata": {
        "id": "bFaSYpTscm20"
      },
      "execution_count": 16,
      "outputs": []
    },
    {
      "cell_type": "code",
      "source": [
        "def make_generator_model():\n",
        "    model = tf.keras.Sequential()\n",
        "    model.add(layers.Dense(7*7*256, use_bias=False, input_shape=(input_row,)))\n",
        "    model.add(layers.BatchNormalization())\n",
        "    model.add(layers.LeakyReLU())\n",
        "\n",
        "    model.add(layers.Reshape((7, 7, 256)))\n",
        "    assert model.output_shape == (None, 7, 7, 256) # 주목: 배치사이즈로 None이 주어집니다.\n",
        "\n",
        "    model.add(layers.Conv2DTranspose(128, (5, 5), strides=(1, 1), padding='same', use_bias=False))\n",
        "    assert model.output_shape == (None, 7, 7, 128)\n",
        "    model.add(layers.BatchNormalization())\n",
        "    model.add(layers.LeakyReLU())\n",
        "\n",
        "    model.add(layers.Conv2DTranspose(64, (5, 5), strides=(2, 2), padding='same', use_bias=False))\n",
        "    assert model.output_shape == (None, 14, 14, 64)\n",
        "    model.add(layers.BatchNormalization())\n",
        "    model.add(layers.LeakyReLU())\n",
        "\n",
        "    model.add(layers.Conv2DTranspose(1, (5, 5), strides=(2, 2), padding='same', use_bias=False, activation='tanh'))\n",
        "    print(model.output_shape)\n",
        "    assert model.output_shape == (None, 28, 28, 1)\n",
        "\n",
        "    return model"
      ],
      "metadata": {
        "id": "X2JjvetqAKUm"
      },
      "execution_count": 17,
      "outputs": []
    },
    {
      "cell_type": "code",
      "source": [
        "generator = make_generator_model()\n",
        "\n",
        "noise = tf.random.normal([1, input_row])\n",
        "generated_image = generator(noise, training=False)\n",
        "\n",
        "plt.imshow(generated_image[0, :, :, 0],cmap='gray')"
      ],
      "metadata": {
        "colab": {
          "base_uri": "https://localhost:8080/",
          "height": 301
        },
        "id": "56Gn-3cyAkKP",
        "outputId": "fd1da1ea-0b34-45cd-f1e4-8704b3aacc93"
      },
      "execution_count": 18,
      "outputs": [
        {
          "output_type": "stream",
          "name": "stdout",
          "text": [
            "(None, 28, 28, 1)\n"
          ]
        },
        {
          "output_type": "execute_result",
          "data": {
            "text/plain": [
              "<matplotlib.image.AxesImage at 0x7f52823f3b50>"
            ]
          },
          "metadata": {},
          "execution_count": 18
        },
        {
          "output_type": "display_data",
          "data": {
            "image/png": "[encoded data removed]",
            "text/plain": [
              "<Figure size 432x288 with 1 Axes>"
            ]
          },
          "metadata": {
            "needs_background": "light"
          }
        }
      ]
    },
    {
      "cell_type": "markdown",
      "source": [
        "#### 감별자"
      ],
      "metadata": {
        "id": "7HL5UGN6sZn5"
      }
    },
    {
      "cell_type": "code",
      "source": [
        "def make_discriminator_model():\n",
        "    model = tf.keras.Sequential()\n",
        "    model.add(layers.Conv2D(64, (10, 10), strides=(2, 2), padding='same',\n",
        "                                     input_shape=[28, 28, 1]))\n",
        "    model.add(layers.LeakyReLU())\n",
        "    model.add(layers.Dropout(0.3))\n",
        "\n",
        "    model.add(layers.Conv2D(128, (5, 5), strides=(2, 2), padding='same'))\n",
        "    model.add(layers.LeakyReLU())\n",
        "    model.add(layers.Dropout(0.3))\n",
        "\n",
        "    model.add(layers.Flatten())\n",
        "    model.add(layers.Dense(1))\n",
        "\n",
        "    return model"
      ],
      "metadata": {
        "id": "fefj9fuoc0q4"
      },
      "execution_count": 19,
      "outputs": []
    },
    {
      "cell_type": "code",
      "source": [
        "discriminator = make_discriminator_model()\n",
        "decision = discriminator(generated_image)\n",
        "print (decision)"
      ],
      "metadata": {
        "colab": {
          "base_uri": "https://localhost:8080/"
        },
        "id": "GKOfb0lcsXQk",
        "outputId": "089ff2c5-1dab-4381-e958-ba0e08bea61b"
      },
      "execution_count": 20,
      "outputs": [
        {
          "output_type": "stream",
          "name": "stdout",
          "text": [
            "tf.Tensor([[0.00082863]], shape=(1, 1), dtype=float32)\n"
          ]
        }
      ]
    },
    {
      "cell_type": "markdown",
      "source": [
        "#### 손실함수 옵티마이저 정의"
      ],
      "metadata": {
        "id": "mVBO-jhcsmE9"
      }
    },
    {
      "cell_type": "code",
      "source": [
        "# 이 메서드는 크로스 엔트로피 손실함수 (cross entropy loss)를 계산하기 위해 헬퍼 (helper) 함수를 반환합니다.\n",
        "cross_entropy = tf.keras.losses.BinaryCrossentropy(from_logits=True)"
      ],
      "metadata": {
        "id": "uEljuaoGsick"
      },
      "execution_count": 21,
      "outputs": []
    },
    {
      "cell_type": "code",
      "source": [
        "#감별자 손실함수\n",
        "def discriminator_loss(real_output, fake_output):\n",
        "    real_loss = cross_entropy(tf.ones_like(real_output), real_output)\n",
        "    fake_loss = cross_entropy(tf.zeros_like(fake_output), fake_output)\n",
        "    total_loss = real_loss + fake_loss\n",
        "    return total_loss\n",
        "#생성자 손실함수\n",
        "def generator_loss(fake_output):\n",
        "    return cross_entropy(tf.ones_like(fake_output), fake_output)"
      ],
      "metadata": {
        "id": "fh7v82AlspMS"
      },
      "execution_count": 22,
      "outputs": []
    },
    {
      "cell_type": "code",
      "source": [
        "generator_optimizer = tf.keras.optimizers.Adam(1e-4)\n",
        "discriminator_optimizer = tf.keras.optimizers.Adam(1e-4)"
      ],
      "metadata": {
        "id": "rAOrykjysszH"
      },
      "execution_count": 23,
      "outputs": []
    },
    {
      "cell_type": "markdown",
      "source": [
        "#### 체크포인트 저장"
      ],
      "metadata": {
        "id": "pEgY-Yi4szBD"
      }
    },
    {
      "cell_type": "code",
      "source": [
        "checkpoint_dir = './training_checkpoints'\n",
        "checkpoint_prefix = os.path.join(checkpoint_dir, \"ckpt\")\n",
        "checkpoint = tf.train.Checkpoint(generator_optimizer=generator_optimizer,\n",
        "                                 discriminator_optimizer=discriminator_optimizer,\n",
        "                                 generator=generator,\n",
        "                                 discriminator=discriminator)"
      ],
      "metadata": {
        "id": "j4bXKKG2svju"
      },
      "execution_count": 24,
      "outputs": []
    },
    {
      "cell_type": "markdown",
      "source": [
        "#### 훈련루프 정의"
      ],
      "metadata": {
        "id": "KN_183Zys3z0"
      }
    },
    {
      "cell_type": "code",
      "source": [
        "EPOCHS = 1500\n",
        "noise_dim = 100\n",
        "num_examples_to_generate = 16\n",
        "\n",
        "# 이 시드를 시간이 지나도 재활용하겠습니다. \n",
        "# (GIF 애니메이션에서 진전 내용을 시각화하는데 쉽기 때문입니다.) \n",
        "seed = tf.random.normal([num_examples_to_generate, noise_dim])"
      ],
      "metadata": {
        "id": "QlfG-nlts1jb"
      },
      "execution_count": 29,
      "outputs": []
    },
    {
      "cell_type": "code",
      "source": [
        "# `tf.function`이 어떻게 사용되는지 주목해 주세요.\n",
        "# 이 데코레이터는 함수를 \"컴파일\"합니다.\n",
        "@tf.function\n",
        "def train_step(images):\n",
        "    noise = tf.random.normal([BATCH_SIZE, noise_dim])\n",
        "\n",
        "    with tf.GradientTape() as gen_tape, tf.GradientTape() as disc_tape:\n",
        "      generated_images = generator(noise, training=True)\n",
        "\n",
        "      real_output = discriminator(images, training=True)\n",
        "      fake_output = discriminator(generated_images, training=True)\n",
        "\n",
        "      gen_loss = generator_loss(fake_output)\n",
        "      disc_loss = discriminator_loss(real_output, fake_output)\n",
        "      print(f\"gen_loss: {gen_loss},disc_loss: {disc_loss}\")\n",
        "\n",
        "    gradients_of_generator = gen_tape.gradient(gen_loss, generator.trainable_variables)\n",
        "    gradients_of_discriminator = disc_tape.gradient(disc_loss, discriminator.trainable_variables)\n",
        "\n",
        "    generator_optimizer.apply_gradients(zip(gradients_of_generator, generator.trainable_variables))\n",
        "    discriminator_optimizer.apply_gradients(zip(gradients_of_discriminator, discriminator.trainable_variables))"
      ],
      "metadata": {
        "id": "Mc6-r-4ks8WL"
      },
      "execution_count": 26,
      "outputs": []
    },
    {
      "cell_type": "code",
      "source": [
        "#이미지생성 및 저장\n",
        "def generate_and_save_images(model, epoch, test_input):\n",
        "  # `training`이 False로 맞춰진 것을 주목하세요.\n",
        "  # 이렇게 하면 (배치정규화를 포함하여) 모든 층들이 추론 모드로 실행됩니다. \n",
        "  predictions = model(test_input, training=False)\n",
        "\n",
        "  fig = plt.figure(figsize=(4,4))\n",
        "\n",
        "  for i in range(predictions.shape[0]):\n",
        "      plt.subplot(4, 4, i+1)\n",
        "      plt.imshow(predictions[i, :, :, 0] * 127.5 + 127.5,cmap='gray')\n",
        "      plt.axis('off')\n",
        "\n",
        "  plt.savefig('image_at_epoch_{:04d}.png'.format(epoch))\n",
        "  plt.show()"
      ],
      "metadata": {
        "id": "N1uY8PYhtr3n"
      },
      "execution_count": 27,
      "outputs": []
    },
    {
      "cell_type": "code",
      "source": [
        "def train(dataset, epochs):\n",
        "  s_time=time.time()\n",
        "  for epoch in range(epochs):\n",
        "    start = time.time()\n",
        "\n",
        "    for image_batch in dataset:\n",
        "      train_step(image_batch)\n",
        "\n",
        "    # GIF를 위한 이미지를 바로 생성합니다.\n",
        "    dp.clear_output(wait=True)\n",
        "    generate_and_save_images(generator,\n",
        "                             epoch + 1,\n",
        "                             seed)\n",
        "\n",
        "    # 15 에포크가 지날 때마다 모델을 저장합니다.\n",
        "    if (epoch + 1) % 15 == 0:\n",
        "      checkpoint.save(file_prefix = checkpoint_prefix)\n",
        "    \n",
        "    # print (' 에포크 {} 에서 걸린 시간은 {} 초 입니다'.format(epoch +1, time.time()-start))\n",
        "    print ('Time for epoch {} is {} sec'.format(epoch + 1, time.time()-start))\n",
        "    print ('Time for epoch {} is {} sec'.format(epoch + 1, round(time.time()-start,2)))\n",
        "    print ('Time for all is {} sec'.format(round(time.time()-s_time,2)))\n",
        "  # 마지막 에포크가 끝난 후 생성합니다.\n",
        "  dp.clear_output(wait=True)\n",
        "  generate_and_save_images(generator,\n",
        "                           epochs,\n",
        "                           seed)"
      ],
      "metadata": {
        "id": "6O_b0nUItZCx"
      },
      "execution_count": 28,
      "outputs": []
    },
    {
      "cell_type": "markdown",
      "source": [
        "#### 모델훈련"
      ],
      "metadata": {
        "id": "O-I7t4VXt0SQ"
      }
    },
    {
      "cell_type": "code",
      "source": [
        "train(train_dataset, EPOCHS)"
      ],
      "metadata": {
        "colab": {
          "base_uri": "https://localhost:8080/",
          "height": 248
        },
        "id": "2i557d1Et1cM",
        "outputId": "501b5214-eef0-4715-a866-1e7c9bbb67f8"
      },
      "execution_count": 30,
      "outputs": [
        {
          "output_type": "display_data",
          "data": {
            "image/png": "[encoded data removed]",
            "text/plain": [
              "<Figure size 288x288 with 16 Axes>"
            ]
          },
          "metadata": {
            "needs_background": "light"
          }
        }
      ]
    },
    {
      "cell_type": "code",
      "source": [
        "checkpoint.restore(tf.train.latest_checkpoint(checkpoint_dir))"
      ],
      "metadata": {
        "id": "W2XLejdJt35x",
        "colab": {
          "base_uri": "https://localhost:8080/"
        },
        "outputId": "6d3b7516-5959-4bab-8778-2fef99877aae"
      },
      "execution_count": 31,
      "outputs": [
        {
          "output_type": "execute_result",
          "data": {
            "text/plain": [
              "<tensorflow.python.training.tracking.util.CheckpointLoadStatus at 0x7f527e388c90>"
            ]
          },
          "metadata": {},
          "execution_count": 31
        }
      ]
    },
    {
      "cell_type": "code",
      "source": [
        "# 에포크 숫자를 사용하여 하나의 이미지를 보여줍니다.\n",
        "def display_image(epoch_no):\n",
        "  return PIL.Image.open('image_at_epoch_{:04d}.png'.format(epoch_no))"
      ],
      "metadata": {
        "id": "pw5s0Mq8t6o2"
      },
      "execution_count": 32,
      "outputs": []
    },
    {
      "cell_type": "code",
      "source": [
        "display_image(EPOCHS)"
      ],
      "metadata": {
        "id": "rxdjTJ3cuBCo",
        "colab": {
          "base_uri": "https://localhost:8080/",
          "height": 305
        },
        "outputId": "3daf2357-4c0e-4021-9090-f93f30a42498"
      },
      "execution_count": 33,
      "outputs": [
        {
          "output_type": "execute_result",
          "data": {
            "image/png": "[encoded data removed]",
            "text/plain": [
              "<PIL.PngImagePlugin.PngImageFile image mode=RGBA size=288x288 at 0x7F527C2C5BD0>"
            ]
          },
          "metadata": {},
          "execution_count": 33
        }
      ]
    },
    {
      "cell_type": "code",
      "source": [
        "anim_file = 'dcgan.gif'\n",
        "\n",
        "with imageio.get_writer(anim_file, mode='I') as writer:\n",
        "  filenames = glob.glob('image*.png')\n",
        "  filenames = sorted(filenames)\n",
        "  last = -1\n",
        "  for i,filename in enumerate(filenames):\n",
        "    frame = 2*(i**0.5)\n",
        "    if round(frame) > round(last):\n",
        "      last = frame\n",
        "    else:\n",
        "      continue\n",
        "    image = imageio.imread(filename)\n",
        "    writer.append_data(image)\n",
        "  image = imageio.imread(filename)\n",
        "  writer.append_data(image)\n",
        "\n",
        "import IPython\n",
        "if IPython.version_info > (6,2,0,''):\n",
        "  display.Image(filename=anim_file)"
      ],
      "metadata": {
        "id": "N0Gx1Z38uFk-"
      },
      "execution_count": 34,
      "outputs": []
    },
    {
      "cell_type": "code",
      "source": [
        "try:\n",
        "  from google.colab import files\n",
        "except ImportError:\n",
        "  pass\n",
        "else:\n",
        "  files.download(anim_file)"
      ],
      "metadata": {
        "id": "kh4YYy49uJV7",
        "colab": {
          "base_uri": "https://localhost:8080/",
          "height": 17
        },
        "outputId": "cee5ba09-1e6e-48ad-b8f9-26d272cc7c0e"
      },
      "execution_count": 35,
      "outputs": [
        {
          "output_type": "display_data",
          "data": {
            "application/javascript": [
              "\n",
              "    async function download(id, filename, size) {\n",
              "      if (!google.colab.kernel.accessAllowed) {\n",
              "        return;\n",
              "      }\n",
              "      const div = document.createElement('div');\n",
              "      const label = document.createElement('label');\n",
              "      label.textContent = `Downloading \"${filename}\": `;\n",
              "      div.appendChild(label);\n",
              "      const progress = document.createElement('progress');\n",
              "      progress.max = size;\n",
              "      div.appendChild(progress);\n",
              "      document.body.appendChild(div);\n",
              "\n",
              "      const buffers = [];\n",
              "      let downloaded = 0;\n",
              "\n",
              "      const channel = await google.colab.kernel.comms.open(id);\n",
              "      // Send a message to notify the kernel that we're ready.\n",
              "      channel.send({})\n",
              "\n",
              "      for await (const message of channel.messages) {\n",
              "        // Send a message to notify the kernel that we're ready.\n",
              "        channel.send({})\n",
              "        if (message.buffers) {\n",
              "          for (const buffer of message.buffers) {\n",
              "            buffers.push(buffer);\n",
              "            downloaded += buffer.byteLength;\n",
              "            progress.value = downloaded;\n",
              "          }\n",
              "        }\n",
              "      }\n",
              "      const blob = new Blob(buffers, {type: 'application/binary'});\n",
              "      const a = document.createElement('a');\n",
              "      a.href = window.URL.createObjectURL(blob);\n",
              "      a.download = filename;\n",
              "      div.appendChild(a);\n",
              "      a.click();\n",
              "      div.remove();\n",
              "    }\n",
              "  "
            ],
            "text/plain": [
              "<IPython.core.display.Javascript object>"
            ]
          },
          "metadata": {}
        },
        {
          "output_type": "display_data",
          "data": {
            "application/javascript": [
              "download(\"download_c7f9246d-c2ab-4845-9257-10cf277eb607\", \"dcgan.gif\", 3655683)"
            ],
            "text/plain": [
              "<IPython.core.display.Javascript object>"
            ]
          },
          "metadata": {}
        }
      ]
    },
    {
      "cell_type": "code",
      "source": [
        "from google.colab import files\n",
        "for i in range(977):\n",
        "  files.download('image_at_epoch_{:04d}.png'.format(i+1))"
      ],
      "metadata": {
        "id": "NCkuRSmrDFKl"
      },
      "execution_count": null,
      "outputs": []
    }
  ]
}